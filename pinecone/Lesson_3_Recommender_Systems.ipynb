{
 "cells": [
  {
   "cell_type": "markdown",
   "id": "4d41ab27-d7fe-4d91-a686-a4fbe443d547",
   "metadata": {},
   "source": [
    "# Lesson 3 - Recommender Systems"
   ]
  },
  {
   "cell_type": "markdown",
   "id": "9b20ec61-81e6-424f-8463-101b524cb2ca",
   "metadata": {},
   "source": [
    "### Import the Needed Packages"
   ]
  },
  {
   "cell_type": "code",
   "execution_count": 1,
   "id": "dcdbd9de-b670-4d7a-9cd9-b7e126a26fdc",
   "metadata": {},
   "outputs": [],
   "source": [
    "import warnings\n",
    "warnings.filterwarnings('ignore')\n",
    "\n",
    "from langchain.text_splitter import RecursiveCharacterTextSplitter\n",
    "from openai import OpenAI\n",
    "from pinecone import Pinecone, ServerlessSpec\n",
    "from tqdm.auto import tqdm, trange\n",
    "from DLAIUtils import Utils\n",
    "\n",
    "import pandas as pd\n",
    "import time\n",
    "import os"
   ]
  },
  {
   "cell_type": "code",
   "execution_count": 2,
   "id": "3accbc15-d288-4a8e-bfaa-807b8cb4e6a9",
   "metadata": {},
   "outputs": [],
   "source": [
    "utils = Utils()\n",
    "PINECONE_API_KEY = utils.get_pinecone_api_key()\n",
    "OPENAI_API_KEY = utils.get_openai_api_key()"
   ]
  },
  {
   "cell_type": "markdown",
   "id": "80d5c3f6-f778-449d-bfa0-b30e74ff3195",
   "metadata": {},
   "source": [
    "### Load the Dataset"
   ]
  },
  {
   "cell_type": "code",
   "execution_count": 3,
   "id": "863c446f-a3ed-4e1b-9db4-763609bd56da",
   "metadata": {},
   "outputs": [
    {
     "name": "stdout",
     "output_type": "stream",
     "text": [
      "date,year,month,day,author,title,article,url,section,publication\n",
      "\n"
     ]
    }
   ],
   "source": [
    "with open('./data/all-the-news-3.csv', 'r') as f:\n",
    "    header = f.readline()\n",
    "    print(header)"
   ]
  },
  {
   "cell_type": "code",
   "execution_count": 4,
   "id": "e3096722-d525-4dc6-8b22-d18d91da9408",
   "metadata": {},
   "outputs": [
    {
     "data": {
      "text/html": [
       "<div>\n",
       "<style scoped>\n",
       "    .dataframe tbody tr th:only-of-type {\n",
       "        vertical-align: middle;\n",
       "    }\n",
       "\n",
       "    .dataframe tbody tr th {\n",
       "        vertical-align: top;\n",
       "    }\n",
       "\n",
       "    .dataframe thead th {\n",
       "        text-align: right;\n",
       "    }\n",
       "</style>\n",
       "<table border=\"1\" class=\"dataframe\">\n",
       "  <thead>\n",
       "    <tr style=\"text-align: right;\">\n",
       "      <th></th>\n",
       "      <th>date</th>\n",
       "      <th>year</th>\n",
       "      <th>month</th>\n",
       "      <th>day</th>\n",
       "      <th>author</th>\n",
       "      <th>title</th>\n",
       "      <th>article</th>\n",
       "      <th>url</th>\n",
       "      <th>section</th>\n",
       "      <th>publication</th>\n",
       "    </tr>\n",
       "  </thead>\n",
       "  <tbody>\n",
       "    <tr>\n",
       "      <th>0</th>\n",
       "      <td>2016-12-09 18:31:00</td>\n",
       "      <td>2016</td>\n",
       "      <td>12.0</td>\n",
       "      <td>9</td>\n",
       "      <td>Lee Drutman</td>\n",
       "      <td>We should take concerns about the health of li...</td>\n",
       "      <td>This post is part of Polyarchy, an independent...</td>\n",
       "      <td>https://www.vox.com/polyarchy/2016/12/9/138983...</td>\n",
       "      <td>NaN</td>\n",
       "      <td>Vox</td>\n",
       "    </tr>\n",
       "    <tr>\n",
       "      <th>1</th>\n",
       "      <td>2016-10-07 21:26:46</td>\n",
       "      <td>2016</td>\n",
       "      <td>10.0</td>\n",
       "      <td>7</td>\n",
       "      <td>Scott Davis</td>\n",
       "      <td>Colts GM Ryan Grigson says Andrew Luck's contr...</td>\n",
       "      <td>The Indianapolis Colts made Andrew Luck the h...</td>\n",
       "      <td>https://www.businessinsider.com/colts-gm-ryan-...</td>\n",
       "      <td>NaN</td>\n",
       "      <td>Business Insider</td>\n",
       "    </tr>\n",
       "    <tr>\n",
       "      <th>2</th>\n",
       "      <td>2018-01-26 00:00:00</td>\n",
       "      <td>2018</td>\n",
       "      <td>1.0</td>\n",
       "      <td>26</td>\n",
       "      <td>NaN</td>\n",
       "      <td>Trump denies report he ordered Mueller fired</td>\n",
       "      <td>DAVOS, Switzerland (Reuters) - U.S. President ...</td>\n",
       "      <td>https://www.reuters.com/article/us-davos-meeti...</td>\n",
       "      <td>Davos</td>\n",
       "      <td>Reuters</td>\n",
       "    </tr>\n",
       "    <tr>\n",
       "      <th>3</th>\n",
       "      <td>2019-06-27 00:00:00</td>\n",
       "      <td>2019</td>\n",
       "      <td>6.0</td>\n",
       "      <td>27</td>\n",
       "      <td>NaN</td>\n",
       "      <td>France's Sarkozy reveals his 'Passions' but in...</td>\n",
       "      <td>PARIS (Reuters) - Former French president Nico...</td>\n",
       "      <td>https://www.reuters.com/article/france-politic...</td>\n",
       "      <td>World News</td>\n",
       "      <td>Reuters</td>\n",
       "    </tr>\n",
       "    <tr>\n",
       "      <th>4</th>\n",
       "      <td>2016-01-27 00:00:00</td>\n",
       "      <td>2016</td>\n",
       "      <td>1.0</td>\n",
       "      <td>27</td>\n",
       "      <td>NaN</td>\n",
       "      <td>Paris Hilton: Woman In Black For Uncle Monty's...</td>\n",
       "      <td>Paris Hilton arrived at LAX Wednesday dressed ...</td>\n",
       "      <td>https://www.tmz.com/2016/01/27/paris-hilton-mo...</td>\n",
       "      <td>NaN</td>\n",
       "      <td>TMZ</td>\n",
       "    </tr>\n",
       "  </tbody>\n",
       "</table>\n",
       "</div>"
      ],
      "text/plain": [
       "                  date  year  month  day       author  \\\n",
       "0  2016-12-09 18:31:00  2016   12.0    9  Lee Drutman   \n",
       "1  2016-10-07 21:26:46  2016   10.0    7  Scott Davis   \n",
       "2  2018-01-26 00:00:00  2018    1.0   26          NaN   \n",
       "3  2019-06-27 00:00:00  2019    6.0   27          NaN   \n",
       "4  2016-01-27 00:00:00  2016    1.0   27          NaN   \n",
       "\n",
       "                                               title  \\\n",
       "0  We should take concerns about the health of li...   \n",
       "1  Colts GM Ryan Grigson says Andrew Luck's contr...   \n",
       "2       Trump denies report he ordered Mueller fired   \n",
       "3  France's Sarkozy reveals his 'Passions' but in...   \n",
       "4  Paris Hilton: Woman In Black For Uncle Monty's...   \n",
       "\n",
       "                                             article  \\\n",
       "0  This post is part of Polyarchy, an independent...   \n",
       "1   The Indianapolis Colts made Andrew Luck the h...   \n",
       "2  DAVOS, Switzerland (Reuters) - U.S. President ...   \n",
       "3  PARIS (Reuters) - Former French president Nico...   \n",
       "4  Paris Hilton arrived at LAX Wednesday dressed ...   \n",
       "\n",
       "                                                 url     section  \\\n",
       "0  https://www.vox.com/polyarchy/2016/12/9/138983...         NaN   \n",
       "1  https://www.businessinsider.com/colts-gm-ryan-...         NaN   \n",
       "2  https://www.reuters.com/article/us-davos-meeti...       Davos   \n",
       "3  https://www.reuters.com/article/france-politic...  World News   \n",
       "4  https://www.tmz.com/2016/01/27/paris-hilton-mo...         NaN   \n",
       "\n",
       "        publication  \n",
       "0               Vox  \n",
       "1  Business Insider  \n",
       "2           Reuters  \n",
       "3           Reuters  \n",
       "4               TMZ  "
      ]
     },
     "execution_count": 4,
     "metadata": {},
     "output_type": "execute_result"
    }
   ],
   "source": [
    "df = pd.read_csv('./data/all-the-news-3.csv', nrows=99)\n",
    "df.head()"
   ]
  },
  {
   "cell_type": "markdown",
   "id": "b1239c06-ba74-4515-81bc-7f1653105e8f",
   "metadata": {},
   "source": [
    "### Setup Pinecone"
   ]
  },
  {
   "cell_type": "code",
   "execution_count": 6,
   "id": "d31d4975-b491-4a6b-87fc-620843fa681c",
   "metadata": {},
   "outputs": [],
   "source": [
    "openai_client = OpenAI(api_key=OPENAI_API_KEY)\n",
    "util = Utils()\n",
    "INDEX_NAME = utils.create_dlai_index_name('dl-ai')\n",
    "pinecone = Pinecone(api_key=PINECONE_API_KEY)\n",
    "\n",
    "if INDEX_NAME in [index.name for index in pinecone.list_indexes()]:\n",
    "  pinecone.delete_index(INDEX_NAME)\n",
    "\n",
    "pinecone.create_index(name=INDEX_NAME, dimension=1536, metric='cosine',\n",
    "  spec=ServerlessSpec(cloud='aws', region='us-west-2'))\n",
    "\n",
    "index = pinecone.Index(INDEX_NAME)"
   ]
  },
  {
   "cell_type": "markdown",
   "id": "b5a0ed1a-6d5f-40b0-a423-dfdf215b7adf",
   "metadata": {},
   "source": [
    "### 1.  Create Embeddings of the News Titles"
   ]
  },
  {
   "cell_type": "code",
   "execution_count": 7,
   "id": "afeba5b7-1492-476d-a114-43ffc59217ff",
   "metadata": {},
   "outputs": [],
   "source": [
    "def get_embeddings(articles, model=\"text-embedding-ada-002\"):\n",
    "   return openai_client.embeddings.create(input = articles, model=model)"
   ]
  },
  {
   "cell_type": "code",
   "execution_count": 8,
   "id": "3a3615a5-069a-4c5d-a0dd-76ab3e3bc940",
   "metadata": {},
   "outputs": [
    {
     "data": {
      "application/vnd.jupyter.widget-view+json": {
       "model_id": "a5957060c42347cfbfa3eae0cb56b8be",
       "version_major": 2,
       "version_minor": 0
      },
      "text/plain": [
       "  0%|          | 0/10000 [00:00<?, ?it/s]"
      ]
     },
     "metadata": {},
     "output_type": "display_data"
    }
   ],
   "source": [
    "CHUNK_SIZE=400\n",
    "TOTAL_ROWS=10000\n",
    "progress_bar = tqdm(total=TOTAL_ROWS)\n",
    "chunks = pd.read_csv('./data/all-the-news-3.csv', chunksize=CHUNK_SIZE, \n",
    "                     nrows=TOTAL_ROWS)\n",
    "chunk_num = 0\n",
    "for chunk in chunks:\n",
    "    titles = chunk['title'].tolist()\n",
    "    embeddings = get_embeddings(titles)\n",
    "    prepped = [{'id':str(chunk_num*CHUNK_SIZE+i), 'values':embeddings.data[i].embedding,\n",
    "                'metadata':{'title':titles[i]},} for i in range(0,len(titles))]\n",
    "    chunk_num = chunk_num + 1\n",
    "    if len(prepped) >= 200:\n",
    "      index.upsert(prepped)\n",
    "      prepped = []\n",
    "    progress_bar.update(len(chunk))"
   ]
  },
  {
   "cell_type": "code",
   "execution_count": 9,
   "id": "3923f35a-feca-4258-b61a-ac915df22d68",
   "metadata": {},
   "outputs": [
    {
     "data": {
      "text/plain": [
       "{'dimension': 1536,\n",
       " 'index_fullness': 0.0,\n",
       " 'namespaces': {'': {'vector_count': 10000}},\n",
       " 'total_vector_count': 10000}"
      ]
     },
     "execution_count": 9,
     "metadata": {},
     "output_type": "execute_result"
    }
   ],
   "source": [
    "index.describe_index_stats()"
   ]
  },
  {
   "cell_type": "markdown",
   "id": "aa9fe920-9f9c-4872-9921-4e6220af4a39",
   "metadata": {},
   "source": [
    "### Build the Recommender System"
   ]
  },
  {
   "cell_type": "code",
   "execution_count": 10,
   "id": "5cd06208-4e35-4bef-a119-5414701fcc8a",
   "metadata": {},
   "outputs": [],
   "source": [
    "def get_recommendations(pinecone_index, search_term, top_k=10):\n",
    "  embed = get_embeddings([search_term]).data[0].embedding\n",
    "  res = pinecone_index.query(vector=embed, top_k=top_k, include_metadata=True)\n",
    "  return res"
   ]
  },
  {
   "cell_type": "code",
   "execution_count": 12,
   "id": "0b65ef29-3d47-4348-a7a2-24f1d324d6e4",
   "metadata": {},
   "outputs": [
    {
     "name": "stdout",
     "output_type": "stream",
     "text": [
      "0.832700431 : U.S. producer prices rise strongly, point to firming inflation\n",
      "0.828362286 : U.S. consumer spending rises in May; inflation muted\n",
      "0.822597504 : TREASURIES-U.S. yield curve steeper as soft inflation spurs rate cut bets\n",
      "0.822398543 : Fresh inflation reading little comfort for ECB\n",
      "0.820796251 : GLOBAL MARKETS-Shares snap seven-day winning streak; U.S. inflation next hurdle\n",
      "0.818258107 : India's inflation seen at seven-month high in May, still below RBI target\n",
      "0.814161181 : CPI Consumer Price Index, March\n",
      "0.813820183 : UPDATE 2-Turkey's central bank holds rates, shifts focus to 'disinflation'\n",
      "0.812950253 : Draghi questions market-based inflation indicators\n",
      "0.801657259 : Chile says May inflation 0.6% vs forecast for +0.5%\n"
     ]
    }
   ],
   "source": [
    "reco = get_recommendations(index, 'inflation')\n",
    "for r in reco.matches:\n",
    "    print(f'{r.score} : {r.metadata[\"title\"]}')"
   ]
  },
  {
   "cell_type": "markdown",
   "id": "07b1cfbf-5723-42ee-98d7-bcd33034dacb",
   "metadata": {},
   "source": [
    "### 2.  Create Embeddings of All News Content"
   ]
  },
  {
   "cell_type": "code",
   "execution_count": 13,
   "id": "1ee78fb6-a4f5-4c0e-a783-36d70224969d",
   "metadata": {},
   "outputs": [],
   "source": [
    "if INDEX_NAME in [index.name for index in pinecone.list_indexes()]:\n",
    "  pinecone.delete_index(name=INDEX_NAME)\n",
    "\n",
    "pinecone.create_index(name=INDEX_NAME, dimension=1536, metric='cosine',\n",
    "  spec=ServerlessSpec(cloud='aws', region='us-west-2'))\n",
    "articles_index = pinecone.Index(INDEX_NAME)"
   ]
  },
  {
   "cell_type": "code",
   "execution_count": 14,
   "id": "87969b36-9825-44ff-908f-2afc1c06bbed",
   "metadata": {},
   "outputs": [],
   "source": [
    "def embed(embeddings, title, prepped, embed_num):\n",
    "  for embedding in embeddings.data:\n",
    "    prepped.append({'id':str(embed_num), 'values':embedding.embedding, 'metadata':{'title':title}})\n",
    "    embed_num += 1\n",
    "    if len(prepped) >= 100:\n",
    "        articles_index.upsert(prepped)\n",
    "        prepped.clear()\n",
    "  return embed_num"
   ]
  },
  {
   "cell_type": "markdown",
   "id": "17299f7f-78ca-4bfd-9bd8-174dee3ef012",
   "metadata": {},
   "source": [
    "<p style=\"background-color:#fff1d7; padding:15px; \"> <b>(Note: <code>news_data_rows_num = 100</code>):</b> In this lab, we've initially set <code>news_data_rows_num</code> to 100 for speedier results, allowing you to observe the outcomes faster. Once you've done an initial run, consider increasing this value to 200, 400, 700, and 1000. You'll likely notice better and more relevant results.</p>"
   ]
  },
  {
   "cell_type": "code",
   "execution_count": 15,
   "id": "5a3cd6bc-2533-47f3-b6e3-c604b49dd905",
   "metadata": {},
   "outputs": [
    {
     "name": "stdout",
     "output_type": "stream",
     "text": [
      "...................................................................................................."
     ]
    }
   ],
   "source": [
    "news_data_rows_num = 100\n",
    "\n",
    "embed_num = 0 #keep track of embedding number for 'id'\n",
    "text_splitter = RecursiveCharacterTextSplitter(chunk_size=400, \n",
    "    chunk_overlap=20) # how to chunk each article\n",
    "prepped = []\n",
    "df = pd.read_csv('./data/all-the-news-3.csv', nrows=news_data_rows_num)\n",
    "articles_list = df['article'].tolist()\n",
    "titles_list = df['title'].tolist()\n",
    "\n",
    "for i in range(0, len(articles_list)):\n",
    "    print(\".\",end=\"\")\n",
    "    art = articles_list[i]\n",
    "    title = titles_list[i]\n",
    "    if art is not None and isinstance(art, str):\n",
    "      texts = text_splitter.split_text(art)\n",
    "      embeddings = get_embeddings(texts)\n",
    "      embed_num = embed(embeddings, title, prepped, embed_num)"
   ]
  },
  {
   "cell_type": "code",
   "execution_count": 16,
   "id": "e800acb4-5871-4808-bff1-cb7f25b63dcf",
   "metadata": {},
   "outputs": [
    {
     "data": {
      "text/plain": [
       "{'dimension': 1536,\n",
       " 'index_fullness': 0.0,\n",
       " 'namespaces': {'': {'vector_count': 1000}},\n",
       " 'total_vector_count': 1000}"
      ]
     },
     "execution_count": 16,
     "metadata": {},
     "output_type": "execute_result"
    }
   ],
   "source": [
    "articles_index.describe_index_stats()"
   ]
  },
  {
   "cell_type": "markdown",
   "id": "dc093825-33a4-41a6-a695-c54ae0942dba",
   "metadata": {},
   "source": [
    "### Build the Recommender System"
   ]
  },
  {
   "cell_type": "code",
   "execution_count": 19,
   "id": "47b08d30-3071-4d49-b15c-52c9ada71cf8",
   "metadata": {},
   "outputs": [
    {
     "name": "stdout",
     "output_type": "stream",
     "text": [
      "0.785840631 : On Black Friday, more U.S. shoppers chose the computer over the mall\n",
      "0.78487885 : The government official in charge of ethics just harshly condemned Trump’s plan\n",
      "0.78226769 : We should take concerns about the health of liberal democracy seriously\n",
      "0.779642224 : ECB's Coeure: If we decide to cut rates, we'd have to consider tiering\n",
      "0.778733611 : Germany seeking EU summit decision on going carbon neutral by 2050-official\n",
      "0.776058912 : IEA concerned about Middle East tensions, stands ready to act\n",
      "0.774469614 : U.S. June sales a mixed bag for automakers; SUVs, trucks still strong\n",
      "0.770851731 : Hudson's Bay's chairman's buyout bid pits retail versus real estate\n",
      "0.768194258 : Despite climate pledges, G20 coal subsidies rise\n",
      "0.767450809 : In Turkey, Music Takes You Where a Travel Visa Can't\n",
      "0.765579402 : U.S. lawmakers ask for disclosure of number of Americans under surveillance\n",
      "0.762697756 : Finally, Someone Is Teaching Old People How to Fuck Good\n",
      "0.761734307 : Virgin Atlantic uniform: flight attendants no longer have to wear makeup\n",
      "0.76075989 : Exclusive: Trump considering fracking mogul Harold Hamm as energy secretary - sources\n",
      "0.758746624 : WPP in exclusive talks to sell Kantar stake to Bain Capital\n",
      "0.758663058 : Colts GM Ryan Grigson says Andrew Luck's contract makes it difficult to build the team\n",
      "0.756530762 : Oil-Rich Oklahoma Has Been  Hit by Nearly Three Dozen Earthquakes Since Wednesday\n",
      "0.756498 : Photos: These are the Rohingya children who escaped Myanmar’s \"ethnic cleansing\"\n",
      "0.753971636 : Exclusive: China shuns U.S. request for talks on airline website dispute over Taiwan\n",
      "0.753941059 : This Small City is the Most Exciting Place to Party in the UK Right Now\n",
      "0.753608525 : How love and marriage are changing, according to 63,000 New York Times wedding announcements\n",
      "0.753304601 : France's Sarkozy reveals his 'Passions' but insists no come-back on cards\n",
      "0.753079355 : Mass protests have erupted in Poland \n",
      "0.752613187 : Paradise, California, wildfire: why the fire threat to California is only growing\n",
      "0.752197921 : Trump warned NATO allies U.S. would go it alone if they did not spend: sources\n",
      "0.751795888 : Exclusive: Britain's financial heartland unbowed as Brexit risks deepen\n",
      "0.751779079 : Proud Boy John Kinsman: why defendants get makeovers for court\n",
      "0.751714051 : The Only Known Film Footage of Marcel Proust, or Proust Descending a Staircase\n",
      "0.750008 : The Second Coming of Betty Tompkins\n",
      "0.749270797 : Forget Facebook, Amazon or Google. Up-and-coming top tech talent is opting for startups.\n",
      "0.7492 : You Can Trick Your Brain Into Being More Focused\n",
      "0.749149859 : Trash Geyser Spews Garbage In Yellowstone National Park\n",
      "0.748919666 : Turkey's Death Metal Scene Thrives Despite Government Repression\n",
      "\n",
      "0.748879552 : Peter Thiel vs. the FDA\n",
      "0.74845 : MaliVai Washington on Men's Tennis Today and His Historic Wimbledon Run 20 Years Ago\n",
      "0.74838829 : RPT-Aging Enbridge oil pipelines face setbacks over fears of Great Lakes spills\n",
      "0.74830842 : Why Jews Are Getting Themselves Arrested at ICE Centers Around the Country\n",
      "0.747910917 : Republicans totally outsmarted the mainstream media on Obamacare repeal\n",
      "0.746617794 : Why Obama is vetting Nevada's Republican governor for the Supreme Court\n",
      "0.746540129 : China is dismissing unfavorable media reports as fake because that's what Trump does\n",
      "0.746437 : Nancy Pelosi says a Clinton landslide could put the House in play. The math backs her up.\n",
      "0.745994925 : Wells Fargo to pay $575 million in settlement with U.S. states\n",
      "0.745384514 : U.S. Relay Team Successfully Appeals DQ After Dropped Baton, Will Race Alone Tonight for Spot in Final\n",
      "0.744647563 : Marcel Broodthaers's Fraught Relationship with Words\n"
     ]
    }
   ],
   "source": [
    "reco = get_recommendations(articles_index, 'inflation', top_k=100)\n",
    "seen = {}\n",
    "\n",
    "for r in reco.matches:\n",
    "    title = r.metadata['title']\n",
    "    if title not in seen:\n",
    "        print(f'{r.score} : {title}')\n",
    "        seen[title] = '.'"
   ]
  },
  {
   "cell_type": "code",
   "execution_count": null,
   "id": "85a721fb-0c9c-4134-b383-a48fa651d4b2",
   "metadata": {},
   "outputs": [],
   "source": []
  }
 ],
 "metadata": {
  "kernelspec": {
   "display_name": "Python 3 (ipykernel)",
   "language": "python",
   "name": "python3"
  },
  "language_info": {
   "codemirror_mode": {
    "name": "ipython",
    "version": 3
   },
   "file_extension": ".py",
   "mimetype": "text/x-python",
   "name": "python",
   "nbconvert_exporter": "python",
   "pygments_lexer": "ipython3",
   "version": "3.12.1"
  }
 },
 "nbformat": 4,
 "nbformat_minor": 5
}
